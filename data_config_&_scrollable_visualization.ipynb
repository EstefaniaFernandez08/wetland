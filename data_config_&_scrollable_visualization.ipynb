{
 "cells": [
  {
   "cell_type": "code",
   "execution_count": 7,
   "metadata": {},
   "outputs": [],
   "source": [
    "import pandas as pd\n",
    "import configparser\n",
    "\n",
    "# initiate the config parser\n",
    "config = configparser.ConfigParser()\n",
    "\n",
    "# read the config ini file\n",
    "config.read('config.ini')\n",
    "\n",
    "# access the file path \n",
    "csv_file_path = config['paths']['csv_wetland_v1']"
   ]
  },
  {
   "cell_type": "markdown",
   "metadata": {},
   "source": [
    "Project Purpose: To evaluate Ramsar Wetland data for the Latin America and the Caribbean region and create a basic initial visualization \n",
    "\n",
    "Data sourcing: https://rsis.ramsar.org/ris-search/?pagetab=0"
   ]
  },
  {
   "cell_type": "code",
   "execution_count": 13,
   "metadata": {},
   "outputs": [
    {
     "name": "stdout",
     "output_type": "stream",
     "text": [
      "Ramsar data initial shape (216, 34).\n",
      "Existing headers Index(['Ramsar Site No.', 'Site name', 'Region', 'Country', 'Territory',\n",
      "       'Designation date', 'Last publication date', 'Area (ha)', 'Latitude',\n",
      "       'Longitude', 'Annotated summary', 'Criterion1', 'Criterion2',\n",
      "       'Criterion3', 'Criterion4', 'Criterion5', 'Criterion6', 'Criterion7',\n",
      "       'Criterion8', 'Criterion9', 'Wetland Type', 'Maximum elevation',\n",
      "       'Minimum elevation', 'Montreux listed', 'Management plan implemented',\n",
      "       'Management plan available', 'Ecosystem services', 'Threats',\n",
      "       'large administrative region',\n",
      "       'Global international legal designations',\n",
      "       'Regional international legal designations',\n",
      "       'National conservation designation',\n",
      "       'Does the wetland extend onto the territory of one or more other countries?',\n",
      "       'Ramsar Advisory Mission?'],\n",
      "      dtype='object')\n",
      "Distinct row count for each columnRamsar Site No.                                                               216\n",
      "Site name                                                                     215\n",
      "Region                                                                          1\n",
      "Country                                                                        27\n",
      "Territory                                                                       0\n",
      "Designation date                                                              145\n",
      "Last publication date                                                         132\n",
      "Area (ha)                                                                     215\n",
      "Latitude                                                                      212\n",
      "Longitude                                                                     214\n",
      "Annotated summary                                                             216\n",
      "Criterion1                                                                      2\n",
      "Criterion2                                                                      2\n",
      "Criterion3                                                                      2\n",
      "Criterion4                                                                      2\n",
      "Criterion5                                                                      2\n",
      "Criterion6                                                                      2\n",
      "Criterion7                                                                      2\n",
      "Criterion8                                                                      2\n",
      "Criterion9                                                                      2\n",
      "Wetland Type                                                                  213\n",
      "Maximum elevation                                                             105\n",
      "Minimum elevation                                                              71\n",
      "Montreux listed                                                                 2\n",
      "Management plan implemented                                                     2\n",
      "Management plan available                                                       3\n",
      "Ecosystem services                                                            202\n",
      "Threats                                                                       210\n",
      "large administrative region                                                   178\n",
      "Global international legal designations                                         5\n",
      "Regional international legal designations                                       1\n",
      "National conservation designation                                               4\n",
      "Does the wetland extend onto the territory of one or more other countries?      2\n",
      "Ramsar Advisory Mission?                                                        2\n",
      "dtype: int64.\n"
     ]
    }
   ],
   "source": [
    "# load the CSV file data\n",
    "df = pd.read_csv(csv_file_path, encoding='UTF-8-SIG')\n",
    "\n",
    "# Print data shape and size\n",
    "print(f\"Ramsar data initial shape {df.shape}.\")\n",
    "print(f\"Existing headers {df.columns}\")\n",
    "print(f\"Distinct row count for each column{df.nunique()}.\")"
   ]
  }
 ],
 "metadata": {
  "kernelspec": {
   "display_name": "venv",
   "language": "python",
   "name": "python3"
  },
  "language_info": {
   "codemirror_mode": {
    "name": "ipython",
    "version": 3
   },
   "file_extension": ".py",
   "mimetype": "text/x-python",
   "name": "python",
   "nbconvert_exporter": "python",
   "pygments_lexer": "ipython3",
   "version": "3.13.0"
  }
 },
 "nbformat": 4,
 "nbformat_minor": 2
}
