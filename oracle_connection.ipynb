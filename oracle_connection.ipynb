{
 "cells": [
  {
   "cell_type": "code",
   "execution_count": 2,
   "metadata": {},
   "outputs": [],
   "source": [
    "import oracledb\n",
    "import configparser\n",
    "\n",
    "# Load the config file\n",
    "config = configparser.ConfigParser()\n",
    "config.read('config.ini')\n",
    "\n",
    "# Extract the credentials from the config file\n",
    "username = config['oracle_db']['username']\n",
    "password = config['oracle_db']['password']\n",
    "dsn = config['oracle_db']['dsn']\n",
    "host = config['oracle_db']['host']\n",
    "port = config['oracle_db']['port']"
   ]
  },
  {
   "cell_type": "code",
   "execution_count": 3,
   "metadata": {},
   "outputs": [
    {
     "ename": "OperationalError",
     "evalue": "DPY-6005: cannot connect to database (CONNECTION_ID=fGXniF47efbxUrmIwvog3w==).\nDPY-6001: Service \"g56b584b2dc2e23_portfoliodb_low.adb.oraclecloud.com\" is not registered with the listener at host \"adb.sa-bogota-1.oraclecloud.com\" port 1522. (Similar to ORA-12514)",
     "output_type": "error",
     "traceback": [
      "\u001b[0;31m---------------------------------------------------------------------------\u001b[0m",
      "\u001b[0;31mOperationalError\u001b[0m                          Traceback (most recent call last)",
      "File \u001b[0;32msrc/oracledb/impl/thin/connection.pyx:322\u001b[0m, in \u001b[0;36moracledb.thin_impl.ThinConnImpl._connect_with_address\u001b[0;34m()\u001b[0m\n",
      "File \u001b[0;32msrc/oracledb/impl/thin/protocol.pyx:245\u001b[0m, in \u001b[0;36moracledb.thin_impl.Protocol._connect_phase_one\u001b[0;34m()\u001b[0m\n",
      "File \u001b[0;32msrc/oracledb/impl/thin/protocol.pyx:409\u001b[0m, in \u001b[0;36moracledb.thin_impl.Protocol._process_message\u001b[0;34m()\u001b[0m\n",
      "File \u001b[0;32msrc/oracledb/impl/thin/protocol.pyx:388\u001b[0m, in \u001b[0;36moracledb.thin_impl.Protocol._process_message\u001b[0;34m()\u001b[0m\n",
      "File \u001b[0;32msrc/oracledb/impl/thin/messages.pyx:1907\u001b[0m, in \u001b[0;36moracledb.thin_impl.ConnectMessage.process\u001b[0;34m()\u001b[0m\n",
      "File \u001b[0;32m~/Documents/data/my_portfolio_projects/wetland/venv/lib/python3.13/site-packages/oracledb/errors.py:195\u001b[0m, in \u001b[0;36m_raise_err\u001b[0;34m(error_num, context_error_message, cause, **args)\u001b[0m\n\u001b[1;32m    194\u001b[0m error \u001b[38;5;241m=\u001b[39m _create_err(error_num, context_error_message, cause, \u001b[38;5;241m*\u001b[39m\u001b[38;5;241m*\u001b[39margs)\n\u001b[0;32m--> 195\u001b[0m \u001b[38;5;28;01mraise\u001b[39;00m error\u001b[38;5;241m.\u001b[39mexc_type(error) \u001b[38;5;28;01mfrom\u001b[39;00m \u001b[38;5;21;01mcause\u001b[39;00m\n",
      "\u001b[0;31mOperationalError\u001b[0m: DPY-6001: Service \"g56b584b2dc2e23_portfoliodb_low.adb.oraclecloud.com\" is not registered with the listener at host \"adb.sa-bogota-1.oraclecloud.com\" port 1522. (Similar to ORA-12514)",
      "\nThe above exception was the direct cause of the following exception:\n",
      "\u001b[0;31mOperationalError\u001b[0m                          Traceback (most recent call last)",
      "Cell \u001b[0;32mIn[3], line 5\u001b[0m\n\u001b[1;32m      2\u001b[0m full_dsn \u001b[38;5;241m=\u001b[39m \u001b[38;5;124mf\u001b[39m\u001b[38;5;124m\"\u001b[39m\u001b[38;5;124m(description=(address=(protocol=tcps)(port=\u001b[39m\u001b[38;5;132;01m{\u001b[39;00mport\u001b[38;5;132;01m}\u001b[39;00m\u001b[38;5;124m)(host=\u001b[39m\u001b[38;5;132;01m{\u001b[39;00mhost\u001b[38;5;132;01m}\u001b[39;00m\u001b[38;5;124m))(connect_data=(service_name=\u001b[39m\u001b[38;5;132;01m{\u001b[39;00mdsn\u001b[38;5;132;01m}\u001b[39;00m\u001b[38;5;124m))(security=(ssl_server_cert_dn=\u001b[39m\u001b[38;5;130;01m\\\"\u001b[39;00m\u001b[38;5;124mCN=\u001b[39m\u001b[38;5;132;01m{\u001b[39;00mhost\u001b[38;5;132;01m}\u001b[39;00m\u001b[38;5;124m, O=Oracle Corporation, L=Redwood City, ST=California, C=US\u001b[39m\u001b[38;5;130;01m\\\"\u001b[39;00m\u001b[38;5;124m)))\u001b[39m\u001b[38;5;124m\"\u001b[39m\n\u001b[1;32m      4\u001b[0m \u001b[38;5;66;03m# Connect to Oracle DB using oracledb\u001b[39;00m\n\u001b[0;32m----> 5\u001b[0m connection \u001b[38;5;241m=\u001b[39m \u001b[43moracledb\u001b[49m\u001b[38;5;241;43m.\u001b[39;49m\u001b[43mconnect\u001b[49m\u001b[43m(\u001b[49m\u001b[43muser\u001b[49m\u001b[38;5;241;43m=\u001b[39;49m\u001b[43musername\u001b[49m\u001b[43m,\u001b[49m\u001b[43m \u001b[49m\u001b[43mpassword\u001b[49m\u001b[38;5;241;43m=\u001b[39;49m\u001b[43mpassword\u001b[49m\u001b[43m,\u001b[49m\u001b[43m \u001b[49m\u001b[43mdsn\u001b[49m\u001b[38;5;241;43m=\u001b[39;49m\u001b[43mfull_dsn\u001b[49m\u001b[43m)\u001b[49m\n\u001b[1;32m      7\u001b[0m \u001b[38;5;66;03m# Create a cursor for your operations\u001b[39;00m\n\u001b[1;32m      8\u001b[0m cursor \u001b[38;5;241m=\u001b[39m connection\u001b[38;5;241m.\u001b[39mcursor()\n",
      "File \u001b[0;32m~/Documents/data/my_portfolio_projects/wetland/venv/lib/python3.13/site-packages/oracledb/connection.py:1169\u001b[0m, in \u001b[0;36m_connection_factory.<locals>.connect\u001b[0;34m(dsn, pool, conn_class, params, **kwargs)\u001b[0m\n\u001b[1;32m   1167\u001b[0m     message \u001b[38;5;241m=\u001b[39m \u001b[38;5;124m\"\u001b[39m\u001b[38;5;124mpool must be an instance of oracledb.ConnectionPool\u001b[39m\u001b[38;5;124m\"\u001b[39m\n\u001b[1;32m   1168\u001b[0m     \u001b[38;5;28;01mraise\u001b[39;00m \u001b[38;5;167;01mTypeError\u001b[39;00m(message)\n\u001b[0;32m-> 1169\u001b[0m \u001b[38;5;28;01mreturn\u001b[39;00m \u001b[43mconn_class\u001b[49m\u001b[43m(\u001b[49m\u001b[43mdsn\u001b[49m\u001b[38;5;241;43m=\u001b[39;49m\u001b[43mdsn\u001b[49m\u001b[43m,\u001b[49m\u001b[43m \u001b[49m\u001b[43mpool\u001b[49m\u001b[38;5;241;43m=\u001b[39;49m\u001b[43mpool\u001b[49m\u001b[43m,\u001b[49m\u001b[43m \u001b[49m\u001b[43mparams\u001b[49m\u001b[38;5;241;43m=\u001b[39;49m\u001b[43mparams\u001b[49m\u001b[43m,\u001b[49m\u001b[43m \u001b[49m\u001b[38;5;241;43m*\u001b[39;49m\u001b[38;5;241;43m*\u001b[39;49m\u001b[43mkwargs\u001b[49m\u001b[43m)\u001b[49m\n",
      "File \u001b[0;32m~/Documents/data/my_portfolio_projects/wetland/venv/lib/python3.13/site-packages/oracledb/connection.py:551\u001b[0m, in \u001b[0;36mConnection.__init__\u001b[0;34m(self, dsn, pool, params, **kwargs)\u001b[0m\n\u001b[1;32m    549\u001b[0m     \u001b[38;5;28;01melse\u001b[39;00m:\n\u001b[1;32m    550\u001b[0m         impl \u001b[38;5;241m=\u001b[39m thin_impl\u001b[38;5;241m.\u001b[39mThinConnImpl(dsn, params_impl)\n\u001b[0;32m--> 551\u001b[0m         \u001b[43mimpl\u001b[49m\u001b[38;5;241;43m.\u001b[39;49m\u001b[43mconnect\u001b[49m\u001b[43m(\u001b[49m\u001b[43mparams_impl\u001b[49m\u001b[43m)\u001b[49m\n\u001b[1;32m    552\u001b[0m \u001b[38;5;28;01melse\u001b[39;00m:\n\u001b[1;32m    553\u001b[0m     impl \u001b[38;5;241m=\u001b[39m thick_impl\u001b[38;5;241m.\u001b[39mThickConnImpl(dsn, params_impl)\n",
      "File \u001b[0;32msrc/oracledb/impl/thin/connection.pyx:424\u001b[0m, in \u001b[0;36moracledb.thin_impl.ThinConnImpl.connect\u001b[0;34m()\u001b[0m\n",
      "File \u001b[0;32msrc/oracledb/impl/thin/connection.pyx:420\u001b[0m, in \u001b[0;36moracledb.thin_impl.ThinConnImpl.connect\u001b[0;34m()\u001b[0m\n",
      "File \u001b[0;32msrc/oracledb/impl/thin/connection.pyx:380\u001b[0m, in \u001b[0;36moracledb.thin_impl.ThinConnImpl._connect_with_params\u001b[0;34m()\u001b[0m\n",
      "File \u001b[0;32msrc/oracledb/impl/thin/connection.pyx:361\u001b[0m, in \u001b[0;36moracledb.thin_impl.ThinConnImpl._connect_with_description\u001b[0;34m()\u001b[0m\n",
      "File \u001b[0;32msrc/oracledb/impl/thin/connection.pyx:327\u001b[0m, in \u001b[0;36moracledb.thin_impl.ThinConnImpl._connect_with_address\u001b[0;34m()\u001b[0m\n",
      "File \u001b[0;32m~/Documents/data/my_portfolio_projects/wetland/venv/lib/python3.13/site-packages/oracledb/errors.py:195\u001b[0m, in \u001b[0;36m_raise_err\u001b[0;34m(error_num, context_error_message, cause, **args)\u001b[0m\n\u001b[1;32m    190\u001b[0m \u001b[38;5;250m\u001b[39m\u001b[38;5;124;03m\"\"\"\u001b[39;00m\n\u001b[1;32m    191\u001b[0m \u001b[38;5;124;03mRaises a driver specific exception from the specified error number and\u001b[39;00m\n\u001b[1;32m    192\u001b[0m \u001b[38;5;124;03msupplied arguments.\u001b[39;00m\n\u001b[1;32m    193\u001b[0m \u001b[38;5;124;03m\"\"\"\u001b[39;00m\n\u001b[1;32m    194\u001b[0m error \u001b[38;5;241m=\u001b[39m _create_err(error_num, context_error_message, cause, \u001b[38;5;241m*\u001b[39m\u001b[38;5;241m*\u001b[39margs)\n\u001b[0;32m--> 195\u001b[0m \u001b[38;5;28;01mraise\u001b[39;00m error\u001b[38;5;241m.\u001b[39mexc_type(error) \u001b[38;5;28;01mfrom\u001b[39;00m \u001b[38;5;21;01mcause\u001b[39;00m\n",
      "\u001b[0;31mOperationalError\u001b[0m: DPY-6005: cannot connect to database (CONNECTION_ID=fGXniF47efbxUrmIwvog3w==).\nDPY-6001: Service \"g56b584b2dc2e23_portfoliodb_low.adb.oraclecloud.com\" is not registered with the listener at host \"adb.sa-bogota-1.oraclecloud.com\" port 1522. (Similar to ORA-12514)"
     ]
    }
   ],
   "source": [
    "# Create the full DSN string manually (inline)\n",
    "full_dsn = f\"(description=(address=(protocol=tcps)(port={port})(host={host}))(connect_data=(service_name={dsn}))(security=(ssl_server_cert_dn=\\\"CN={host}, O=Oracle Corporation, L=Redwood City, ST=California, C=US\\\")))\"\n",
    "\n",
    "# Connect to Oracle DB using oracledb\n",
    "connection = oracledb.connect(user=username, password=password, dsn=full_dsn)\n",
    "\n",
    "# Create a cursor for your operations\n",
    "cursor = connection.cursor()\n",
    "\n",
    "# Example operation (replace with your actual query)\n",
    "try:\n",
    "    print(\"Connection successful!\")\n",
    "finally:\n",
    "    cursor.close()\n",
    "    connection.close()"
   ]
  }
 ],
 "metadata": {
  "kernelspec": {
   "display_name": "venv",
   "language": "python",
   "name": "python3"
  },
  "language_info": {
   "codemirror_mode": {
    "name": "ipython",
    "version": 3
   },
   "file_extension": ".py",
   "mimetype": "text/x-python",
   "name": "python",
   "nbconvert_exporter": "python",
   "pygments_lexer": "ipython3",
   "version": "3.13.0"
  }
 },
 "nbformat": 4,
 "nbformat_minor": 2
}
